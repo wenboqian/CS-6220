{
  "cells": [
    {
      "cell_type": "markdown",
      "metadata": {
        "id": "kPt5q27L5557"
      },
      "source": [
        "# Lecture 3, Lab\n",
        "\n",
        "Submit via link with [Gradescope](http://gradescope.com)"
      ]
    },
    {
      "cell_type": "markdown",
      "source": [
        "# Looking at BigQuery Results\n",
        "\n",
        "Go ahead and open up a BigQuery console with [Google Compute Platform](https://console.cloud.google.com/welcome?project=neu-cs6220). Let's review a [BigQuery Table that is a real dataset from Google](https://console.cloud.google.com/bigquery?sq=568122555620:c3135eff33c041a78b04d293104b04da). This dataset is populated daily and is processed from Google Search logs. To do this, you will need to:\n",
        "\n",
        "1. Go to [this link](https://console.cloud.google.com/bigquery?sq=568122555620:c3135eff33c041a78b04d293104b04da)\n",
        "1. When prompted, create a `project`\n",
        "1. Run the SQL query\n",
        "1. Click on `Explore Data` on the lower right corner\n",
        "1. Then, click on `Explore in Python Notebook`\n",
        "\n",
        "You can go ahead and explore the data!"
      ],
      "metadata": {
        "id": "ZuIdPfJBjlYR"
      }
    },
    {
      "cell_type": "markdown",
      "metadata": {
        "id": "p0-YhEpP_Ds-"
      },
      "source": [
        "# Setting Up Spark in Colabs\n",
        "\n",
        "## Virtual Machine Setup\n",
        "\n",
        "Colab is an interactive virtual machine that Google provides for free. You could alternatively work locally on Jupyter Notebooks or Python scripts so that you can customize your environment, needn't setup Spark, and not worry about constantly installing packages. Otherwise, the below can be done in class.\n",
        "\n",
        "The below code sets up your Colab notebook. (You could do the same in Jupyter or in your shell on your local machine.) If you executed the cells below correctly, you should be able to see the file *pg100.txt* under the \"Files\" tab on the left panel."
      ]
    },
    {
      "cell_type": "code",
      "execution_count": 1,
      "metadata": {
        "id": "k-qHai2252mI",
        "colab": {
          "base_uri": "https://localhost:8080/"
        },
        "outputId": "42b8fa72-5795-4944-9f89-0afdf9b3be73"
      },
      "outputs": [
        {
          "output_type": "stream",
          "name": "stdout",
          "text": [
            "Collecting pyspark\n",
            "  Downloading pyspark-3.5.3.tar.gz (317.3 MB)\n",
            "\u001b[2K     \u001b[90m━━━━━━━━━━━━━━━━━━━━━━━━━━━━━━━━━━━━━━━━\u001b[0m \u001b[32m317.3/317.3 MB\u001b[0m \u001b[31m3.4 MB/s\u001b[0m eta \u001b[36m0:00:00\u001b[0m\n",
            "\u001b[?25h  Preparing metadata (setup.py) ... \u001b[?25l\u001b[?25hdone\n",
            "Requirement already satisfied: py4j==0.10.9.7 in /usr/local/lib/python3.10/dist-packages (from pyspark) (0.10.9.7)\n",
            "Building wheels for collected packages: pyspark\n",
            "  Building wheel for pyspark (setup.py) ... \u001b[?25l\u001b[?25hdone\n",
            "  Created wheel for pyspark: filename=pyspark-3.5.3-py2.py3-none-any.whl size=317840625 sha256=6c1afaea15a50ddf92dc4697485b84ba824ac976d4556d3fb7fab986ac7e2014\n",
            "  Stored in directory: /root/.cache/pip/wheels/1b/3a/92/28b93e2fbfdbb07509ca4d6f50c5e407f48dce4ddbda69a4ab\n",
            "Successfully built pyspark\n",
            "Installing collected packages: pyspark\n",
            "Successfully installed pyspark-3.5.3\n",
            "The following additional packages will be installed:\n",
            "  libxtst6 openjdk-8-jre-headless\n",
            "Suggested packages:\n",
            "  openjdk-8-demo openjdk-8-source libnss-mdns fonts-dejavu-extra fonts-nanum fonts-ipafont-gothic\n",
            "  fonts-ipafont-mincho fonts-wqy-microhei fonts-wqy-zenhei fonts-indic\n",
            "The following NEW packages will be installed:\n",
            "  libxtst6 openjdk-8-jdk-headless openjdk-8-jre-headless\n",
            "0 upgraded, 3 newly installed, 0 to remove and 49 not upgraded.\n",
            "Need to get 39.6 MB of archives.\n",
            "After this operation, 144 MB of additional disk space will be used.\n",
            "Selecting previously unselected package libxtst6:amd64.\n",
            "(Reading database ... 123620 files and directories currently installed.)\n",
            "Preparing to unpack .../libxtst6_2%3a1.2.3-1build4_amd64.deb ...\n",
            "Unpacking libxtst6:amd64 (2:1.2.3-1build4) ...\n",
            "Selecting previously unselected package openjdk-8-jre-headless:amd64.\n",
            "Preparing to unpack .../openjdk-8-jre-headless_8u422-b05-1~22.04_amd64.deb ...\n",
            "Unpacking openjdk-8-jre-headless:amd64 (8u422-b05-1~22.04) ...\n",
            "Selecting previously unselected package openjdk-8-jdk-headless:amd64.\n",
            "Preparing to unpack .../openjdk-8-jdk-headless_8u422-b05-1~22.04_amd64.deb ...\n",
            "Unpacking openjdk-8-jdk-headless:amd64 (8u422-b05-1~22.04) ...\n",
            "Setting up libxtst6:amd64 (2:1.2.3-1build4) ...\n",
            "Setting up openjdk-8-jre-headless:amd64 (8u422-b05-1~22.04) ...\n",
            "update-alternatives: using /usr/lib/jvm/java-8-openjdk-amd64/jre/bin/orbd to provide /usr/bin/orbd (orbd) in auto mode\n",
            "update-alternatives: using /usr/lib/jvm/java-8-openjdk-amd64/jre/bin/servertool to provide /usr/bin/servertool (servertool) in auto mode\n",
            "update-alternatives: using /usr/lib/jvm/java-8-openjdk-amd64/jre/bin/tnameserv to provide /usr/bin/tnameserv (tnameserv) in auto mode\n",
            "Setting up openjdk-8-jdk-headless:amd64 (8u422-b05-1~22.04) ...\n",
            "update-alternatives: using /usr/lib/jvm/java-8-openjdk-amd64/bin/clhsdb to provide /usr/bin/clhsdb (clhsdb) in auto mode\n",
            "update-alternatives: using /usr/lib/jvm/java-8-openjdk-amd64/bin/extcheck to provide /usr/bin/extcheck (extcheck) in auto mode\n",
            "update-alternatives: using /usr/lib/jvm/java-8-openjdk-amd64/bin/hsdb to provide /usr/bin/hsdb (hsdb) in auto mode\n",
            "update-alternatives: using /usr/lib/jvm/java-8-openjdk-amd64/bin/idlj to provide /usr/bin/idlj (idlj) in auto mode\n",
            "update-alternatives: using /usr/lib/jvm/java-8-openjdk-amd64/bin/javah to provide /usr/bin/javah (javah) in auto mode\n",
            "update-alternatives: using /usr/lib/jvm/java-8-openjdk-amd64/bin/jhat to provide /usr/bin/jhat (jhat) in auto mode\n",
            "update-alternatives: using /usr/lib/jvm/java-8-openjdk-amd64/bin/jsadebugd to provide /usr/bin/jsadebugd (jsadebugd) in auto mode\n",
            "update-alternatives: using /usr/lib/jvm/java-8-openjdk-amd64/bin/native2ascii to provide /usr/bin/native2ascii (native2ascii) in auto mode\n",
            "update-alternatives: using /usr/lib/jvm/java-8-openjdk-amd64/bin/schemagen to provide /usr/bin/schemagen (schemagen) in auto mode\n",
            "update-alternatives: using /usr/lib/jvm/java-8-openjdk-amd64/bin/wsgen to provide /usr/bin/wsgen (wsgen) in auto mode\n",
            "update-alternatives: using /usr/lib/jvm/java-8-openjdk-amd64/bin/wsimport to provide /usr/bin/wsimport (wsimport) in auto mode\n",
            "update-alternatives: using /usr/lib/jvm/java-8-openjdk-amd64/bin/xjc to provide /usr/bin/xjc (xjc) in auto mode\n",
            "Processing triggers for libc-bin (2.35-0ubuntu3.4) ...\n",
            "/sbin/ldconfig.real: /usr/local/lib/libtbbbind_2_5.so.3 is not a symbolic link\n",
            "\n",
            "/sbin/ldconfig.real: /usr/local/lib/libtbbbind_2_0.so.3 is not a symbolic link\n",
            "\n",
            "/sbin/ldconfig.real: /usr/local/lib/libtbbmalloc.so.2 is not a symbolic link\n",
            "\n",
            "/sbin/ldconfig.real: /usr/local/lib/libur_adapter_level_zero.so.0 is not a symbolic link\n",
            "\n",
            "/sbin/ldconfig.real: /usr/local/lib/libtbbmalloc_proxy.so.2 is not a symbolic link\n",
            "\n",
            "/sbin/ldconfig.real: /usr/local/lib/libtbb.so.12 is not a symbolic link\n",
            "\n",
            "/sbin/ldconfig.real: /usr/local/lib/libur_adapter_opencl.so.0 is not a symbolic link\n",
            "\n",
            "/sbin/ldconfig.real: /usr/local/lib/libur_loader.so.0 is not a symbolic link\n",
            "\n",
            "/sbin/ldconfig.real: /usr/local/lib/libtbbbind.so.3 is not a symbolic link\n",
            "\n"
          ]
        }
      ],
      "source": [
        "#@title Download and install the PySpark packages\n",
        "\n",
        "!pip install pyspark\n",
        "!pip install -U -q PyDrive\n",
        "!apt install openjdk-8-jdk-headless -qq\n",
        "import os\n",
        "os.environ[\"JAVA_HOME\"] = \"/usr/lib/jvm/java-8-openjdk-amd64\""
      ]
    },
    {
      "cell_type": "code",
      "execution_count": 7,
      "metadata": {
        "id": "xu-e7Ph2_ruG"
      },
      "outputs": [],
      "source": [
        "#@title Setup Spark and Data\n",
        "\n",
        "from pyspark.sql import *\n",
        "from pyspark.sql.functions import *\n",
        "from pyspark import SparkContext\n",
        "import pandas as pd\n",
        "\n",
        "# create the Spark Session\n",
        "spark = SparkSession.builder.getOrCreate()\n",
        "\n",
        "# create the Spark Context\n",
        "sc = spark.sparkContext\n",
        "\n",
        "data = sc.textFile(\"soc-LiveJournal1Adj.txt\")\n",
        "\n",
        "adj_list = data.map(lambda line: line.split(\"\\t\")) \\\n",
        "                   .filter(lambda line: len(line) == 2 and line[0].isdigit() and line[1].strip() != \"\") \\\n",
        "                   .map(lambda line: (int(line[0]), list(set(map(int, line[1].split(\",\"))))))\n",
        "\n",
        "adj_list_dict = adj_list.collectAsMap()\n",
        "\n",
        "adj_list_broadcast = sc.broadcast(adj_list_dict)\n",
        "\n",
        "'''\n",
        "  Generate a defined relation pair (U, (X, Y)) for a given user id(U).\n",
        "  Here user U and user X are mutual friends, user X and user Y are mutual friends, but user U and user Y are not mutual friends.\n",
        "  For example, (1, (0, 2)) means user 1 and user 0 are mutual friends, user 2 and user 0 are mutual friends, but user 1 and user 2 are not mutual friends.\n",
        "'''\n",
        "def mutual_friends_pairs(user_id):\n",
        "    pairs = []\n",
        "    user_friends = adj_list_broadcast.value.get(user_id, [])\n",
        "    for user_friend in user_friends:\n",
        "        mutual_friends = adj_list_broadcast.value.get(user_friend, [])\n",
        "        for mutual_friend in mutual_friends:\n",
        "            if mutual_friend != user_id and mutual_friend not in user_friends:\n",
        "                pairs.append((user_id, (user_friend, mutual_friend)))\n",
        "    return pairs\n",
        "\n",
        "friend_pairs_rdd = adj_list.flatMap(lambda x: mutual_friends_pairs(x[0]))\n",
        "\n",
        "# friend_pairs_rdd = friend_pairs_rdd.filter(lambda pair: pair[0] == 11 or pair[0] == 924)\n",
        "\n",
        "# Step 1\n",
        "recommand_count_rdd = friend_pairs_rdd.map(lambda pair: (pair[0], pair[1][1])) \\\n",
        "                                      .map(lambda user_mutual: ((user_mutual[0], user_mutual[1]), 1)) \\\n",
        "                                      .reduceByKey(lambda a, b: a + b)\n",
        "\n",
        "# Step 2: (user_id, mutual_friend) => count => [(mutual_friend, count), ...]\n",
        "user_recommendations_rdd = recommand_count_rdd.map(lambda x: (x[0][0], (x[0][1], x[1]))) \\\n",
        "                                              .groupByKey() \\\n",
        "                                              .mapValues(list)\n",
        "\n",
        "# Step 3\n",
        "sorted_recommendations_rdd = user_recommendations_rdd.mapValues(lambda recommendations: sorted(recommendations, key=lambda x: (-x[1], x[0]))[:10])\n",
        "\n",
        "# Step 4\n",
        "top_recommendations_rdd = sorted_recommendations_rdd.mapValues(lambda recommendations: [x[0] for x in recommendations])\n",
        "\n",
        "top_recommendations_rdd.map(lambda x: f\"{x[0]}\\t{x[1]}\").coalesce(1).saveAsTextFile(\"output.txt\")"
      ]
    }
  ],
  "metadata": {
    "colab": {
      "provenance": []
    },
    "kernelspec": {
      "display_name": "Python 3",
      "name": "python3"
    }
  },
  "nbformat": 4,
  "nbformat_minor": 0
}